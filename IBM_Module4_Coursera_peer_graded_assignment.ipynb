{
  "metadata": {
    "kernelspec": {
      "name": "python",
      "display_name": "Pyolite",
      "language": "python"
    },
    "language_info": {
      "codemirror_mode": {
        "name": "python",
        "version": 3
      },
      "file_extension": ".py",
      "mimetype": "text/x-python",
      "name": "python",
      "nbconvert_exporter": "python",
      "pygments_lexer": "ipython3",
      "version": "3.8"
    }
  },
  "nbformat_minor": 4,
  "nbformat": 4,
  "cells": [
    {
      "cell_type": "markdown",
      "source": "<center>\n    <img src=\"https://cf-courses-data.s3.us.cloud-object-storage.appdomain.cloud/IBMDeveloperSkillsNetwork-DS0105EN-SkillsNetwork/labs/Module2/images/SN_web_lightmode.png\" width=\"300\" alt=\"cognitiveclass.ai logo\">\n</center>\n",
      "metadata": {}
    },
    {
      "cell_type": "markdown",
      "source": "# My Jupyter Notebook on IBM Watson Studio",
      "metadata": {}
    },
    {
      "cell_type": "markdown",
      "source": "**Pragya Suryavanshi**\n\nData Scientist",
      "metadata": {}
    },
    {
      "cell_type": "markdown",
      "source": "*I am interested in data science because I like working with data and finding insights in it, exploring and analyzing data sets to uncover patterns, trends, and correlations.*",
      "metadata": {}
    },
    {
      "cell_type": "markdown",
      "source": "### This python code calculates the average of four numbers entered by the user",
      "metadata": {}
    },
    {
      "cell_type": "code",
      "source": "# Assign 4 numbers\nnum1 = 2\nnum2 = 5\nnum3 = 8\nnum4 = 7\n\n# Calculate the average of the four numbers\naverage = (num1 + num2 + num3 + num4) / 4\n\n# Print the result\nprint(\"The average of \", num1, \",\", num2, \",\", num3, \", and \", num4, \" is \", average)\n",
      "metadata": {
        "trusted": true
      },
      "execution_count": 5,
      "outputs": [
        {
          "name": "stdout",
          "text": "The average of  2 , 5 , 8 , and  7  is  5.5\n",
          "output_type": "stream"
        }
      ]
    },
    {
      "cell_type": "markdown",
      "source": "~~strikethrough~~\n\n[IBM](https://www.ibm.com/uk-en)\n\n> Python code example\n\n```python\nprint('Hello')\n```",
      "metadata": {}
    },
    {
      "cell_type": "code",
      "source": "",
      "metadata": {},
      "execution_count": null,
      "outputs": []
    },
    {
      "cell_type": "code",
      "source": "",
      "metadata": {},
      "execution_count": null,
      "outputs": []
    }
  ]
}